{
 "cells": [
  {
   "cell_type": "code",
   "execution_count": 56,
   "metadata": {},
   "outputs": [],
   "source": [
    "import pandas as pd\n",
    "\n",
    "random_5_800_df = pd.read_pickle(\"random_5_800_df\")\n",
    "entropy_12_800_df = pd.read_pickle(\"entropy_12_800_df\")"
   ]
  },
  {
   "cell_type": "code",
   "execution_count": 57,
   "metadata": {},
   "outputs": [
    {
     "data": {
      "text/html": [
       "<div>\n",
       "<style scoped>\n",
       "    .dataframe tbody tr th:only-of-type {\n",
       "        vertical-align: middle;\n",
       "    }\n",
       "\n",
       "    .dataframe tbody tr th {\n",
       "        vertical-align: top;\n",
       "    }\n",
       "\n",
       "    .dataframe thead th {\n",
       "        text-align: right;\n",
       "    }\n",
       "</style>\n",
       "<table border=\"1\" class=\"dataframe\">\n",
       "  <thead>\n",
       "    <tr style=\"text-align: right;\">\n",
       "      <th></th>\n",
       "      <th>Clicks</th>\n",
       "      <th>MAP@800</th>\n",
       "      <th>NDCG</th>\n",
       "      <th>Precision@800</th>\n",
       "      <th>R-Precision</th>\n",
       "      <th>Recall@800</th>\n",
       "    </tr>\n",
       "  </thead>\n",
       "  <tbody>\n",
       "    <tr>\n",
       "      <th>0</th>\n",
       "      <td>(19.171492463143945, 0.4982477049551618)</td>\n",
       "      <td>(0.005627410303500504, 0.00018548663877745563)</td>\n",
       "      <td>(0.07431364130108341, 0.0012162769555116941)</td>\n",
       "      <td>(0.0056636160344542, 0.0001739329360375442)</td>\n",
       "      <td>(0.005515748100761256, 0.00044375278285454215)</td>\n",
       "      <td>(0.23193144305858734, 0.003710631810077509)</td>\n",
       "    </tr>\n",
       "    <tr>\n",
       "      <th>1</th>\n",
       "      <td>(19.626233593620206, 0.5033332272126703)</td>\n",
       "      <td>(0.004311045988065067, 0.00014067457432227447)</td>\n",
       "      <td>(0.06792475354163016, 0.001224930328999198)</td>\n",
       "      <td>(0.004334814753281276, 0.00013142142279195544)</td>\n",
       "      <td>(0.0041437290091718955, 0.0004439043280856824)</td>\n",
       "      <td>(0.23152233695224633, 0.004335216622777486)</td>\n",
       "    </tr>\n",
       "    <tr>\n",
       "      <th>2</th>\n",
       "      <td>(19.864923747276688, 0.5083188611098515)</td>\n",
       "      <td>(0.003352997577112294, 0.00011639545948108672)</td>\n",
       "      <td>(0.0613486286978211, 0.0012598211202872467)</td>\n",
       "      <td>(0.0033140606670018433, 0.00010450059014439917)</td>\n",
       "      <td>(0.0033143404656902566, 0.0004385508799594365)</td>\n",
       "      <td>(0.22804710268848566, 0.005029422285693739)</td>\n",
       "    </tr>\n",
       "    <tr>\n",
       "      <th>3</th>\n",
       "      <td>(20.31703146374829, 0.5169302118803473)</td>\n",
       "      <td>(0.0026497146540115524, 9.47356052238105e-05)</td>\n",
       "      <td>(0.056971828460197424, 0.0012704484409951382)</td>\n",
       "      <td>(0.0026528300273597812, 8.360449492640609e-05)</td>\n",
       "      <td>(0.0022959300680607856, 0.00037548284757260515)</td>\n",
       "      <td>(0.2311712170823277, 0.0055416652110662715)</td>\n",
       "    </tr>\n",
       "    <tr>\n",
       "      <th>4</th>\n",
       "      <td>(20.626447298961818, 0.5358178614396574)</td>\n",
       "      <td>(0.0020106931052956004, 7.423455447662371e-05)</td>\n",
       "      <td>(0.051637012790317266, 0.0013076838768182936)</td>\n",
       "      <td>(0.0020172004223121594, 6.415556278076944e-05)</td>\n",
       "      <td>(0.002087113531338626, 0.000511008839619905)</td>\n",
       "      <td>(0.22822107833636582, 0.006094915830926003)</td>\n",
       "    </tr>\n",
       "  </tbody>\n",
       "</table>\n",
       "</div>"
      ],
      "text/plain": [
       "                                     Clicks  \\\n",
       "0  (19.171492463143945, 0.4982477049551618)   \n",
       "1  (19.626233593620206, 0.5033332272126703)   \n",
       "2  (19.864923747276688, 0.5083188611098515)   \n",
       "3   (20.31703146374829, 0.5169302118803473)   \n",
       "4  (20.626447298961818, 0.5358178614396574)   \n",
       "\n",
       "                                          MAP@800  \\\n",
       "0  (0.005627410303500504, 0.00018548663877745563)   \n",
       "1  (0.004311045988065067, 0.00014067457432227447)   \n",
       "2  (0.003352997577112294, 0.00011639545948108672)   \n",
       "3   (0.0026497146540115524, 9.47356052238105e-05)   \n",
       "4  (0.0020106931052956004, 7.423455447662371e-05)   \n",
       "\n",
       "                                            NDCG  \\\n",
       "0   (0.07431364130108341, 0.0012162769555116941)   \n",
       "1    (0.06792475354163016, 0.001224930328999198)   \n",
       "2    (0.0613486286978211, 0.0012598211202872467)   \n",
       "3  (0.056971828460197424, 0.0012704484409951382)   \n",
       "4  (0.051637012790317266, 0.0013076838768182936)   \n",
       "\n",
       "                                     Precision@800  \\\n",
       "0      (0.0056636160344542, 0.0001739329360375442)   \n",
       "1   (0.004334814753281276, 0.00013142142279195544)   \n",
       "2  (0.0033140606670018433, 0.00010450059014439917)   \n",
       "3   (0.0026528300273597812, 8.360449492640609e-05)   \n",
       "4   (0.0020172004223121594, 6.415556278076944e-05)   \n",
       "\n",
       "                                       R-Precision  \\\n",
       "0   (0.005515748100761256, 0.00044375278285454215)   \n",
       "1   (0.0041437290091718955, 0.0004439043280856824)   \n",
       "2   (0.0033143404656902566, 0.0004385508799594365)   \n",
       "3  (0.0022959300680607856, 0.00037548284757260515)   \n",
       "4     (0.002087113531338626, 0.000511008839619905)   \n",
       "\n",
       "                                    Recall@800  \n",
       "0  (0.23193144305858734, 0.003710631810077509)  \n",
       "1  (0.23152233695224633, 0.004335216622777486)  \n",
       "2  (0.22804710268848566, 0.005029422285693739)  \n",
       "3  (0.2311712170823277, 0.0055416652110662715)  \n",
       "4  (0.22822107833636582, 0.006094915830926003)  "
      ]
     },
     "execution_count": 57,
     "metadata": {},
     "output_type": "execute_result"
    }
   ],
   "source": [
    "random_5_800_df"
   ]
  },
  {
   "cell_type": "code",
   "execution_count": 58,
   "metadata": {
    "scrolled": true
   },
   "outputs": [
    {
     "data": {
      "text/html": [
       "<div>\n",
       "<style scoped>\n",
       "    .dataframe tbody tr th:only-of-type {\n",
       "        vertical-align: middle;\n",
       "    }\n",
       "\n",
       "    .dataframe tbody tr th {\n",
       "        vertical-align: top;\n",
       "    }\n",
       "\n",
       "    .dataframe thead th {\n",
       "        text-align: right;\n",
       "    }\n",
       "</style>\n",
       "<table border=\"1\" class=\"dataframe\">\n",
       "  <thead>\n",
       "    <tr style=\"text-align: right;\">\n",
       "      <th></th>\n",
       "      <th>Clicks</th>\n",
       "      <th>MAP@800</th>\n",
       "      <th>NDCG</th>\n",
       "      <th>Precision@800</th>\n",
       "      <th>R-Precision</th>\n",
       "      <th>Recall@800</th>\n",
       "    </tr>\n",
       "  </thead>\n",
       "  <tbody>\n",
       "    <tr>\n",
       "      <th>0</th>\n",
       "      <td>(3.42864005300646, 0.20093691546142775)</td>\n",
       "      <td>(0.026418606553341776, 0.0005663322932409659)</td>\n",
       "      <td>(0.27510920476107936, 0.0037176158487689233)</td>\n",
       "      <td>(0.013829923803213517, 0.00036654269282350357)</td>\n",
       "      <td>(0.07926826138670329, 0.0026340957035622275)</td>\n",
       "      <td>(0.587268260647485, 0.005954200087659187)</td>\n",
       "    </tr>\n",
       "    <tr>\n",
       "      <th>1</th>\n",
       "      <td>(21.199945799457993, 0.5065568348248786)</td>\n",
       "      <td>(0.002590293843020575, 0.00010134784164871612)</td>\n",
       "      <td>(0.06637129303184852, 0.0016287586363100302)</td>\n",
       "      <td>(0.0029742547425474254, 0.00010381732255453756)</td>\n",
       "      <td>(0.0006477504486788357, 0.0002448635275329654)</td>\n",
       "      <td>(0.2867030716716821, 0.007301051429536813)</td>\n",
       "    </tr>\n",
       "    <tr>\n",
       "      <th>2</th>\n",
       "      <td>(18.83810267421433, 0.5877374142971838)</td>\n",
       "      <td>(0.0005245265987129687, 3.898805785337534e-05)</td>\n",
       "      <td>(0.020346250603656003, 0.0009734943477746548)</td>\n",
       "      <td>(0.0009135272301385908, 4.8826897522573626e-05)</td>\n",
       "      <td>(0.00016187642578429227, 0.0001447253259244391)</td>\n",
       "      <td>(0.09572241898573747, 0.004832142794749212)</td>\n",
       "    </tr>\n",
       "    <tr>\n",
       "      <th>3</th>\n",
       "      <td>(11.420163054285146, 0.45936145059901745)</td>\n",
       "      <td>(0.00013581395220015608, 2.3579004608462746e-05)</td>\n",
       "      <td>(0.006481106008128839, 0.0005433604640690219)</td>\n",
       "      <td>(0.00029131039968184527, 2.604238031431689e-05)</td>\n",
       "      <td>(2.909951549306704e-05, 5.2046665378830405e-05)</td>\n",
       "      <td>(0.031707437326304336, 0.0029067308692465772)</td>\n",
       "    </tr>\n",
       "    <tr>\n",
       "      <th>4</th>\n",
       "      <td>(7.4310186111667, 0.2953416940603204)</td>\n",
       "      <td>(4.405449042717317e-05, 1.0307906255482553e-05)</td>\n",
       "      <td>(0.0022122977334588533, 0.0003092344794544136)</td>\n",
       "      <td>(0.00010906543926355814, 1.6807479912359327e-05)</td>\n",
       "      <td>(3.335334534053765e-05, 5.946482320752186e-05)</td>\n",
       "      <td>(0.010754677198783954, 0.0016894918915799327)</td>\n",
       "    </tr>\n",
       "    <tr>\n",
       "      <th>5</th>\n",
       "      <td>(6.023846770958684, 0.196530324783265)</td>\n",
       "      <td>(1.3783464661357543e-05, 4.671691630301006e-06)</td>\n",
       "      <td>(0.0007100360107770072, 0.00015996362734525203)</td>\n",
       "      <td>(3.760529482551143e-05, 8.442551938267336e-06)</td>\n",
       "      <td>(0.0, 0.0)</td>\n",
       "      <td>(0.003300485359207798, 0.0008275618508627509)</td>\n",
       "    </tr>\n",
       "    <tr>\n",
       "      <th>6</th>\n",
       "      <td>(5.347843530591775, 0.11761233441043945)</td>\n",
       "      <td>(4.36747376060552e-06, 2.7451038630537408e-06)</td>\n",
       "      <td>(0.00025650657379088193, 0.00010682076323061022)</td>\n",
       "      <td>(1.629889669007021e-05, 7.394060848434406e-06)</td>\n",
       "      <td>(0.0, 0.0)</td>\n",
       "      <td>(0.0011125280964798744, 0.0004783862773149862)</td>\n",
       "    </tr>\n",
       "    <tr>\n",
       "      <th>7</th>\n",
       "      <td>(5.0729989969909735, 0.04907610483476553)</td>\n",
       "      <td>(1.2450062882703842e-06, 1.0045643735115602e-06)</td>\n",
       "      <td>(5.980033752113368e-05, 4.323121003547386e-05)</td>\n",
       "      <td>(3.7612838515546637e-06, 2.563579053927091e-06)</td>\n",
       "      <td>(0.0, 0.0)</td>\n",
       "      <td>(0.0002486923429669701, 0.0001931243583577531)</td>\n",
       "    </tr>\n",
       "    <tr>\n",
       "      <th>8</th>\n",
       "      <td>(5.0293681043129395, 0.03498659257228365)</td>\n",
       "      <td>(1.0436656366676408e-06, 1.77796494782255e-06)</td>\n",
       "      <td>(2.419970376537029e-05, 3.352190113863584e-05)</td>\n",
       "      <td>(2.0060180541624876e-06, 2.1871389664991026e-06)</td>\n",
       "      <td>(0.0, 0.0)</td>\n",
       "      <td>(7.544099727136272e-05, 0.00011125710225740515)</td>\n",
       "    </tr>\n",
       "    <tr>\n",
       "      <th>9</th>\n",
       "      <td>(5.022126379137412, 0.02905695151395937)</td>\n",
       "      <td>(2.8597814232200255e-07, 4.896906408520014e-07)</td>\n",
       "      <td>(1.2129163469305121e-05, 1.913946093436865e-05)</td>\n",
       "      <td>(7.522567703109327e-07, 9.983746115733405e-07)</td>\n",
       "      <td>(0.0, 0.0)</td>\n",
       "      <td>(4.809750890097192e-05, 7.96275275770007e-05)</td>\n",
       "    </tr>\n",
       "    <tr>\n",
       "      <th>10</th>\n",
       "      <td>(5.012758274824473, 0.022719066713877058)</td>\n",
       "      <td>(3.852314038122919e-08, 6.859938419498031e-08)</td>\n",
       "      <td>(5.8496859661509915e-06, 1.0416722287975954e-05)</td>\n",
       "      <td>(2.5075225677031095e-07, 4.4652253761550835e-07)</td>\n",
       "      <td>(0.0, 0.0)</td>\n",
       "      <td>(2.865740077374982e-05, 5.1031147156058084e-05)</td>\n",
       "    </tr>\n",
       "    <tr>\n",
       "      <th>11</th>\n",
       "      <td>(5.0, 0.0)</td>\n",
       "      <td>(0.0, 0.0)</td>\n",
       "      <td>(0.0, 0.0)</td>\n",
       "      <td>(0.0, 0.0)</td>\n",
       "      <td>(0.0, 0.0)</td>\n",
       "      <td>(0.0, 0.0)</td>\n",
       "    </tr>\n",
       "  </tbody>\n",
       "</table>\n",
       "</div>"
      ],
      "text/plain": [
       "                                       Clicks  \\\n",
       "0     (3.42864005300646, 0.20093691546142775)   \n",
       "1    (21.199945799457993, 0.5065568348248786)   \n",
       "2     (18.83810267421433, 0.5877374142971838)   \n",
       "3   (11.420163054285146, 0.45936145059901745)   \n",
       "4       (7.4310186111667, 0.2953416940603204)   \n",
       "5      (6.023846770958684, 0.196530324783265)   \n",
       "6    (5.347843530591775, 0.11761233441043945)   \n",
       "7   (5.0729989969909735, 0.04907610483476553)   \n",
       "8   (5.0293681043129395, 0.03498659257228365)   \n",
       "9    (5.022126379137412, 0.02905695151395937)   \n",
       "10  (5.012758274824473, 0.022719066713877058)   \n",
       "11                                 (5.0, 0.0)   \n",
       "\n",
       "                                             MAP@800  \\\n",
       "0      (0.026418606553341776, 0.0005663322932409659)   \n",
       "1     (0.002590293843020575, 0.00010134784164871612)   \n",
       "2     (0.0005245265987129687, 3.898805785337534e-05)   \n",
       "3   (0.00013581395220015608, 2.3579004608462746e-05)   \n",
       "4    (4.405449042717317e-05, 1.0307906255482553e-05)   \n",
       "5    (1.3783464661357543e-05, 4.671691630301006e-06)   \n",
       "6     (4.36747376060552e-06, 2.7451038630537408e-06)   \n",
       "7   (1.2450062882703842e-06, 1.0045643735115602e-06)   \n",
       "8     (1.0436656366676408e-06, 1.77796494782255e-06)   \n",
       "9    (2.8597814232200255e-07, 4.896906408520014e-07)   \n",
       "10    (3.852314038122919e-08, 6.859938419498031e-08)   \n",
       "11                                        (0.0, 0.0)   \n",
       "\n",
       "                                                NDCG  \\\n",
       "0       (0.27510920476107936, 0.0037176158487689233)   \n",
       "1       (0.06637129303184852, 0.0016287586363100302)   \n",
       "2      (0.020346250603656003, 0.0009734943477746548)   \n",
       "3      (0.006481106008128839, 0.0005433604640690219)   \n",
       "4     (0.0022122977334588533, 0.0003092344794544136)   \n",
       "5    (0.0007100360107770072, 0.00015996362734525203)   \n",
       "6   (0.00025650657379088193, 0.00010682076323061022)   \n",
       "7     (5.980033752113368e-05, 4.323121003547386e-05)   \n",
       "8     (2.419970376537029e-05, 3.352190113863584e-05)   \n",
       "9    (1.2129163469305121e-05, 1.913946093436865e-05)   \n",
       "10  (5.8496859661509915e-06, 1.0416722287975954e-05)   \n",
       "11                                        (0.0, 0.0)   \n",
       "\n",
       "                                       Precision@800  \\\n",
       "0     (0.013829923803213517, 0.00036654269282350357)   \n",
       "1    (0.0029742547425474254, 0.00010381732255453756)   \n",
       "2    (0.0009135272301385908, 4.8826897522573626e-05)   \n",
       "3    (0.00029131039968184527, 2.604238031431689e-05)   \n",
       "4   (0.00010906543926355814, 1.6807479912359327e-05)   \n",
       "5     (3.760529482551143e-05, 8.442551938267336e-06)   \n",
       "6     (1.629889669007021e-05, 7.394060848434406e-06)   \n",
       "7    (3.7612838515546637e-06, 2.563579053927091e-06)   \n",
       "8   (2.0060180541624876e-06, 2.1871389664991026e-06)   \n",
       "9     (7.522567703109327e-07, 9.983746115733405e-07)   \n",
       "10  (2.5075225677031095e-07, 4.4652253761550835e-07)   \n",
       "11                                        (0.0, 0.0)   \n",
       "\n",
       "                                        R-Precision  \\\n",
       "0      (0.07926826138670329, 0.0026340957035622275)   \n",
       "1    (0.0006477504486788357, 0.0002448635275329654)   \n",
       "2   (0.00016187642578429227, 0.0001447253259244391)   \n",
       "3   (2.909951549306704e-05, 5.2046665378830405e-05)   \n",
       "4    (3.335334534053765e-05, 5.946482320752186e-05)   \n",
       "5                                        (0.0, 0.0)   \n",
       "6                                        (0.0, 0.0)   \n",
       "7                                        (0.0, 0.0)   \n",
       "8                                        (0.0, 0.0)   \n",
       "9                                        (0.0, 0.0)   \n",
       "10                                       (0.0, 0.0)   \n",
       "11                                       (0.0, 0.0)   \n",
       "\n",
       "                                         Recall@800  \n",
       "0         (0.587268260647485, 0.005954200087659187)  \n",
       "1        (0.2867030716716821, 0.007301051429536813)  \n",
       "2       (0.09572241898573747, 0.004832142794749212)  \n",
       "3     (0.031707437326304336, 0.0029067308692465772)  \n",
       "4     (0.010754677198783954, 0.0016894918915799327)  \n",
       "5     (0.003300485359207798, 0.0008275618508627509)  \n",
       "6    (0.0011125280964798744, 0.0004783862773149862)  \n",
       "7    (0.0002486923429669701, 0.0001931243583577531)  \n",
       "8   (7.544099727136272e-05, 0.00011125710225740515)  \n",
       "9     (4.809750890097192e-05, 7.96275275770007e-05)  \n",
       "10  (2.865740077374982e-05, 5.1031147156058084e-05)  \n",
       "11                                       (0.0, 0.0)  "
      ]
     },
     "execution_count": 58,
     "metadata": {},
     "output_type": "execute_result"
    }
   ],
   "source": [
    "entropy_12_800_df"
   ]
  },
  {
   "cell_type": "code",
   "execution_count": 59,
   "metadata": {
    "scrolled": true
   },
   "outputs": [
    {
     "data": {
      "text/html": [
       "<div>\n",
       "<style scoped>\n",
       "    .dataframe tbody tr th:only-of-type {\n",
       "        vertical-align: middle;\n",
       "    }\n",
       "\n",
       "    .dataframe tbody tr th {\n",
       "        vertical-align: top;\n",
       "    }\n",
       "\n",
       "    .dataframe thead th {\n",
       "        text-align: right;\n",
       "    }\n",
       "</style>\n",
       "<table border=\"1\" class=\"dataframe\">\n",
       "  <thead>\n",
       "    <tr style=\"text-align: right;\">\n",
       "      <th></th>\n",
       "      <th>Clicks</th>\n",
       "      <th>MAP@800</th>\n",
       "      <th>NDCG</th>\n",
       "      <th>Precision@800</th>\n",
       "      <th>R-Precision</th>\n",
       "      <th>Recall@800</th>\n",
       "    </tr>\n",
       "  </thead>\n",
       "  <tbody>\n",
       "    <tr>\n",
       "      <th>0</th>\n",
       "      <td>3.428640</td>\n",
       "      <td>2.641861e-02</td>\n",
       "      <td>0.275109</td>\n",
       "      <td>1.382992e-02</td>\n",
       "      <td>0.079268</td>\n",
       "      <td>0.587268</td>\n",
       "    </tr>\n",
       "    <tr>\n",
       "      <th>1</th>\n",
       "      <td>21.199946</td>\n",
       "      <td>2.590294e-03</td>\n",
       "      <td>0.066371</td>\n",
       "      <td>2.974255e-03</td>\n",
       "      <td>0.000648</td>\n",
       "      <td>0.286703</td>\n",
       "    </tr>\n",
       "    <tr>\n",
       "      <th>2</th>\n",
       "      <td>18.838103</td>\n",
       "      <td>5.245266e-04</td>\n",
       "      <td>0.020346</td>\n",
       "      <td>9.135272e-04</td>\n",
       "      <td>0.000162</td>\n",
       "      <td>0.095722</td>\n",
       "    </tr>\n",
       "    <tr>\n",
       "      <th>3</th>\n",
       "      <td>11.420163</td>\n",
       "      <td>1.358140e-04</td>\n",
       "      <td>0.006481</td>\n",
       "      <td>2.913104e-04</td>\n",
       "      <td>0.000029</td>\n",
       "      <td>0.031707</td>\n",
       "    </tr>\n",
       "    <tr>\n",
       "      <th>4</th>\n",
       "      <td>7.431019</td>\n",
       "      <td>4.405449e-05</td>\n",
       "      <td>0.002212</td>\n",
       "      <td>1.090654e-04</td>\n",
       "      <td>0.000033</td>\n",
       "      <td>0.010755</td>\n",
       "    </tr>\n",
       "    <tr>\n",
       "      <th>5</th>\n",
       "      <td>6.023847</td>\n",
       "      <td>1.378346e-05</td>\n",
       "      <td>0.000710</td>\n",
       "      <td>3.760529e-05</td>\n",
       "      <td>0.000000</td>\n",
       "      <td>0.003300</td>\n",
       "    </tr>\n",
       "    <tr>\n",
       "      <th>6</th>\n",
       "      <td>5.347844</td>\n",
       "      <td>4.367474e-06</td>\n",
       "      <td>0.000257</td>\n",
       "      <td>1.629890e-05</td>\n",
       "      <td>0.000000</td>\n",
       "      <td>0.001113</td>\n",
       "    </tr>\n",
       "    <tr>\n",
       "      <th>7</th>\n",
       "      <td>5.072999</td>\n",
       "      <td>1.245006e-06</td>\n",
       "      <td>0.000060</td>\n",
       "      <td>3.761284e-06</td>\n",
       "      <td>0.000000</td>\n",
       "      <td>0.000249</td>\n",
       "    </tr>\n",
       "    <tr>\n",
       "      <th>8</th>\n",
       "      <td>5.029368</td>\n",
       "      <td>1.043666e-06</td>\n",
       "      <td>0.000024</td>\n",
       "      <td>2.006018e-06</td>\n",
       "      <td>0.000000</td>\n",
       "      <td>0.000075</td>\n",
       "    </tr>\n",
       "    <tr>\n",
       "      <th>9</th>\n",
       "      <td>5.022126</td>\n",
       "      <td>2.859781e-07</td>\n",
       "      <td>0.000012</td>\n",
       "      <td>7.522568e-07</td>\n",
       "      <td>0.000000</td>\n",
       "      <td>0.000048</td>\n",
       "    </tr>\n",
       "    <tr>\n",
       "      <th>10</th>\n",
       "      <td>5.012758</td>\n",
       "      <td>3.852314e-08</td>\n",
       "      <td>0.000006</td>\n",
       "      <td>2.507523e-07</td>\n",
       "      <td>0.000000</td>\n",
       "      <td>0.000029</td>\n",
       "    </tr>\n",
       "    <tr>\n",
       "      <th>11</th>\n",
       "      <td>5.000000</td>\n",
       "      <td>0.000000e+00</td>\n",
       "      <td>0.000000</td>\n",
       "      <td>0.000000e+00</td>\n",
       "      <td>0.000000</td>\n",
       "      <td>0.000000</td>\n",
       "    </tr>\n",
       "  </tbody>\n",
       "</table>\n",
       "</div>"
      ],
      "text/plain": [
       "       Clicks       MAP@800      NDCG  Precision@800  R-Precision  Recall@800\n",
       "0    3.428640  2.641861e-02  0.275109   1.382992e-02     0.079268    0.587268\n",
       "1   21.199946  2.590294e-03  0.066371   2.974255e-03     0.000648    0.286703\n",
       "2   18.838103  5.245266e-04  0.020346   9.135272e-04     0.000162    0.095722\n",
       "3   11.420163  1.358140e-04  0.006481   2.913104e-04     0.000029    0.031707\n",
       "4    7.431019  4.405449e-05  0.002212   1.090654e-04     0.000033    0.010755\n",
       "5    6.023847  1.378346e-05  0.000710   3.760529e-05     0.000000    0.003300\n",
       "6    5.347844  4.367474e-06  0.000257   1.629890e-05     0.000000    0.001113\n",
       "7    5.072999  1.245006e-06  0.000060   3.761284e-06     0.000000    0.000249\n",
       "8    5.029368  1.043666e-06  0.000024   2.006018e-06     0.000000    0.000075\n",
       "9    5.022126  2.859781e-07  0.000012   7.522568e-07     0.000000    0.000048\n",
       "10   5.012758  3.852314e-08  0.000006   2.507523e-07     0.000000    0.000029\n",
       "11   5.000000  0.000000e+00  0.000000   0.000000e+00     0.000000    0.000000"
      ]
     },
     "execution_count": 59,
     "metadata": {},
     "output_type": "execute_result"
    }
   ],
   "source": [
    "entropy_12_800_df.columns = [\"Clicks\", \"MAP@800\", \"NDCG\", \"Precision@800\", \"R-Precision\", \"Recall@800\"]\n",
    "# entropy_20_20_df_copy = entropy_12_800_df.reset_index()\n",
    "entropy_12_800_df_copy = entropy_12_800_df\n",
    "# entropy_20_20_df_copy['MAP@20_ci'] = entropy_12_800_df_copy['MAP@20'].apply(lambda x: x[1])\n",
    "entropy_12_800_df_copy['MAP@800'] = entropy_12_800_df_copy['MAP@800'].apply(lambda x: x[0])\n",
    "# entropy_20_20_df_copy['NDCG_ci'] = entropy_12_800_df_copy['NDCG'].apply(lambda x: x[1])\n",
    "entropy_12_800_df_copy['NDCG'] = entropy_12_800_df_copy['NDCG'].apply(lambda x: x[0])\n",
    "# entropy_20_20_df_copy['Precision@20_ci'] = entropy_12_800_df_copy['Precision@20'].apply(lambda x: x[1])\n",
    "entropy_12_800_df_copy['Precision@800'] = entropy_12_800_df_copy['Precision@800'].apply(lambda x: x[0])\n",
    "# entropy_20_20_df_copy['R-Precision_ci'] = entropy_12_800_df_copy['R-Precision'].apply(lambda x: x[1])\n",
    "entropy_12_800_df_copy['R-Precision'] = entropy_12_800_df_copy['R-Precision'].apply(lambda x: x[0])\n",
    "# entropy_20_20_df_copy['Recall@20_ci'] = entropy_12_800_df_copy['Recall@20'].apply(lambda x: x[1])\n",
    "entropy_12_800_df_copy['Recall@800'] = entropy_12_800_df_copy['Recall@800'].apply(lambda x: x[0])\n",
    "# entropy_20_20_df_copy['Clicks_ci'] = entropy_12_800_df_copy['Clicks'].apply(lambda x: x[1])\n",
    "entropy_12_800_df_copy['Clicks'] = entropy_12_800_df_copy['Clicks'].apply(lambda x: x[0])\n",
    "entropy_12_800_df_copy"
   ]
  },
  {
   "cell_type": "code",
   "execution_count": 60,
   "metadata": {},
   "outputs": [],
   "source": [
    "import seaborn as sns; sns.set()\n",
    "import matplotlib.pyplot as plt"
   ]
  },
  {
   "cell_type": "code",
   "execution_count": 23,
   "metadata": {
    "scrolled": true
   },
   "outputs": [
    {
     "data": {
      "text/plain": [
       "<matplotlib.axes._subplots.AxesSubplot at 0x7f1946888240>"
      ]
     },
     "execution_count": 23,
     "metadata": {},
     "output_type": "execute_result"
    },
    {
     "data": {
      "image/png": "[encoded data removed]",
      "text/plain": [
       "<Figure size 432x288 with 1 Axes>"
      ]
     },
     "metadata": {},
     "output_type": "display_data"
    }
   ],
   "source": [
    "# sns.lineplot(x='index', y=\"R-Precision\", data=entropy_20_20_df_copy)"
   ]
  },
  {
   "cell_type": "code",
   "execution_count": 62,
   "metadata": {
    "scrolled": true
   },
   "outputs": [
    {
     "data": {
      "text/plain": [
       "[[<matplotlib.axis.XTick at 0x7f1946567fd0>,\n",
       "  <matplotlib.axis.XTick at 0x7f1946567860>,\n",
       "  <matplotlib.axis.XTick at 0x7f1946567588>,\n",
       "  <matplotlib.axis.XTick at 0x7f1946cacd68>,\n",
       "  <matplotlib.axis.XTick at 0x7f19465297f0>,\n",
       "  <matplotlib.axis.XTick at 0x7f1946529cc0>,\n",
       "  <matplotlib.axis.XTick at 0x7f1946532208>,\n",
       "  <matplotlib.axis.XTick at 0x7f1946529be0>,\n",
       "  <matplotlib.axis.XTick at 0x7f194651ac18>,\n",
       "  <matplotlib.axis.XTick at 0x7f19465320b8>,\n",
       "  <matplotlib.axis.XTick at 0x7f1946532be0>,\n",
       "  <matplotlib.axis.XTick at 0x7f1946532588>]]"
      ]
     },
     "execution_count": 62,
     "metadata": {},
     "output_type": "execute_result"
    },
    {
     "data": {
      "image/png": "[encoded data removed]",
      "text/plain": [
       "<Figure size 432x288 with 1 Axes>"
      ]
     },
     "metadata": {},
     "output_type": "display_data"
    }
   ],
   "source": [
    "import numpy as np\n",
    "ax = sns.lineplot(data=entropy_12_800_df_copy[[\"MAP@800\", \"NDCG\", \"Precision@800\", \"R-Precision\", \"Recall@800\"]])\n",
    "ax.set(xticks=np.arange(0,12,1))"
   ]
  },
  {
   "cell_type": "code",
   "execution_count": 50,
   "metadata": {},
   "outputs": [
    {
     "data": {
      "text/html": [
       "<div>\n",
       "<style scoped>\n",
       "    .dataframe tbody tr th:only-of-type {\n",
       "        vertical-align: middle;\n",
       "    }\n",
       "\n",
       "    .dataframe tbody tr th {\n",
       "        vertical-align: top;\n",
       "    }\n",
       "\n",
       "    .dataframe thead th {\n",
       "        text-align: right;\n",
       "    }\n",
       "</style>\n",
       "<table border=\"1\" class=\"dataframe\">\n",
       "  <thead>\n",
       "    <tr style=\"text-align: right;\">\n",
       "      <th></th>\n",
       "      <th>Clicks</th>\n",
       "      <th>MAP@800</th>\n",
       "      <th>NDCG</th>\n",
       "      <th>Precision@800</th>\n",
       "      <th>R-Precision</th>\n",
       "      <th>Recall@800</th>\n",
       "    </tr>\n",
       "  </thead>\n",
       "  <tbody>\n",
       "    <tr>\n",
       "      <th>0</th>\n",
       "      <td>19.171492</td>\n",
       "      <td>0.005627</td>\n",
       "      <td>0.074314</td>\n",
       "      <td>0.005664</td>\n",
       "      <td>0.005516</td>\n",
       "      <td>0.231931</td>\n",
       "    </tr>\n",
       "    <tr>\n",
       "      <th>1</th>\n",
       "      <td>19.626234</td>\n",
       "      <td>0.004311</td>\n",
       "      <td>0.067925</td>\n",
       "      <td>0.004335</td>\n",
       "      <td>0.004144</td>\n",
       "      <td>0.231522</td>\n",
       "    </tr>\n",
       "    <tr>\n",
       "      <th>2</th>\n",
       "      <td>19.864924</td>\n",
       "      <td>0.003353</td>\n",
       "      <td>0.061349</td>\n",
       "      <td>0.003314</td>\n",
       "      <td>0.003314</td>\n",
       "      <td>0.228047</td>\n",
       "    </tr>\n",
       "    <tr>\n",
       "      <th>3</th>\n",
       "      <td>20.317031</td>\n",
       "      <td>0.002650</td>\n",
       "      <td>0.056972</td>\n",
       "      <td>0.002653</td>\n",
       "      <td>0.002296</td>\n",
       "      <td>0.231171</td>\n",
       "    </tr>\n",
       "    <tr>\n",
       "      <th>4</th>\n",
       "      <td>20.626447</td>\n",
       "      <td>0.002011</td>\n",
       "      <td>0.051637</td>\n",
       "      <td>0.002017</td>\n",
       "      <td>0.002087</td>\n",
       "      <td>0.228221</td>\n",
       "    </tr>\n",
       "  </tbody>\n",
       "</table>\n",
       "</div>"
      ],
      "text/plain": [
       "      Clicks   MAP@800      NDCG  Precision@800  R-Precision  Recall@800\n",
       "0  19.171492  0.005627  0.074314       0.005664     0.005516    0.231931\n",
       "1  19.626234  0.004311  0.067925       0.004335     0.004144    0.231522\n",
       "2  19.864924  0.003353  0.061349       0.003314     0.003314    0.228047\n",
       "3  20.317031  0.002650  0.056972       0.002653     0.002296    0.231171\n",
       "4  20.626447  0.002011  0.051637       0.002017     0.002087    0.228221"
      ]
     },
     "execution_count": 50,
     "metadata": {},
     "output_type": "execute_result"
    }
   ],
   "source": [
    "random_5_800_df.columns = [\"Clicks\", \"MAP@800\", \"NDCG\", \"Precision@800\", \"R-Precision\", \"Recall@800\"]\n",
    "# random_5_800_df_copy = random_5_800_df\n",
    "# random_5_800_df_copy[\"Random_MAP@800\"] = random_5_800_df_copy[\"MAP@800\"].apply(lambda x: x[0])\n",
    "# random_5_800_df['Random_NDCG'] = random_5_800_df['NDCG'].apply(lambda x: x[0])\n",
    "# random_5_800_df['Random_Precision@800'] = random_5_800_df['Precision@800'].apply(lambda x: x[0])\n",
    "# random_5_800_df['Random_R-Precision'] = random_5_800_df['R-Precision'].apply(lambda x: x[0])\n",
    "# random_5_800_df['Random_Recall@800'] = random_5_800_df['Recall@800'].apply(lambda x: x[0])\n",
    "random_5_800_df_copy"
   ]
  },
  {
   "cell_type": "code",
   "execution_count": 51,
   "metadata": {},
   "outputs": [
    {
     "data": {
      "text/plain": [
       "2.5198742337513864"
      ]
     },
     "execution_count": 51,
     "metadata": {},
     "output_type": "execute_result"
    }
   ],
   "source": [
    "0.5844369509081928 / 0.231931"
   ]
  },
  {
   "cell_type": "code",
   "execution_count": 52,
   "metadata": {},
   "outputs": [
    {
     "data": {
      "text/plain": [
       "4.702110785481707"
      ]
     },
     "execution_count": 52,
     "metadata": {},
     "output_type": "execute_result"
    }
   ],
   "source": [
    "0.026458777389905565 / 0.005627"
   ]
  },
  {
   "cell_type": "code",
   "execution_count": 53,
   "metadata": {},
   "outputs": [
    {
     "data": {
      "text/plain": [
       "2.440078789086883"
      ]
     },
     "execution_count": 53,
     "metadata": {},
     "output_type": "execute_result"
    }
   ],
   "source": [
    "0.013820606261388107 / 0.005664"
   ]
  },
  {
   "cell_type": "code",
   "execution_count": 54,
   "metadata": {},
   "outputs": [
    {
     "data": {
      "text/plain": [
       "14.454856871112566"
      ]
     },
     "execution_count": 54,
     "metadata": {},
     "output_type": "execute_result"
    }
   ],
   "source": [
    "0.07973299050105692 / 0.005516"
   ]
  },
  {
   "cell_type": "code",
   "execution_count": 55,
   "metadata": {},
   "outputs": [
    {
     "data": {
      "text/plain": [
       "3.682906726136578"
      ]
     },
     "execution_count": 55,
     "metadata": {},
     "output_type": "execute_result"
    }
   ],
   "source": [
    "0.27369153044611366 / 0.074314"
   ]
  },
  {
   "cell_type": "code",
   "execution_count": null,
   "metadata": {},
   "outputs": [],
   "source": [
    "Recall@800:(0.5844369509081928, 0.005977655961903462)\n",
    "MAP@800:(0.026458777389905565, 0.0005757470357630799)\n",
    "Precision@800:(0.013820606261388107, 0.00036972230351024516)\n",
    "Clicks:(3.382358787477224, 0.19734634486176747)\n",
    "R-Precision:(0.07973299050105692, 0.002663427851492664)\n",
    "NDCG:(0.27369153044611366, 0.0037461587044595357)"
   ]
  }
 ],
 "metadata": {
  "kernelspec": {
   "display_name": "Python 3",
   "language": "python",
   "name": "python3"
  },
  "language_info": {
   "codemirror_mode": {
    "name": "ipython",
    "version": 3
   },
   "file_extension": ".py",
   "mimetype": "text/x-python",
   "name": "python",
   "nbconvert_exporter": "python",
   "pygments_lexer": "ipython3",
   "version": "3.6.7"
  }
 },
 "nbformat": 4,
 "nbformat_minor": 2
}
