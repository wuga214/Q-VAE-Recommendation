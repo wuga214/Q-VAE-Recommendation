{
 "cells": [
  {
   "cell_type": "code",
   "execution_count": 105,
   "metadata": {},
   "outputs": [],
   "source": [
    "import numpy as np\n",
    "import pandas as pd\n",
    "import itertools\n",
    "import matplotlib.pyplot as plt"
   ]
  },
  {
   "cell_type": "code",
   "execution_count": 3,
   "metadata": {},
   "outputs": [],
   "source": [
    "class Model(object):\n",
    "    def __init__(self, edges=None):\n",
    "        self._edges = edges\n",
    "        self._joint_prob = None\n",
    "       \n",
    "    def return_joint_prob(self):\n",
    "        return self._joint_prob\n",
    "\n",
    "    def add_cpds(self, *cpds):\n",
    "        updated_cpds = []\n",
    "\n",
    "        for cpd in cpds:\n",
    "#             print('The original cpd is')\n",
    "#             print('{} \\n'.format(cpd))\n",
    "            if len(cpd.columns) == 1:\n",
    "                column_name = cpd.index.values[0][:cpd.index.values[0].rfind('_')]\n",
    "                cpd.reset_index(level=0, inplace=True)\n",
    "                cpd.rename(columns={'index':column_name, 0:'Pr'}, inplace=True)\n",
    "                cpd[column_name] = cpd[column_name].apply(lambda x: int(x[x.rfind('_')+1:]))\n",
    "#                 print('The processed cpd with only one column probability \\n {} \\n'.format(cpd))\n",
    "#                 print('============================================= \\n')\n",
    "            else:\n",
    "                num_levels = cpd.T.index.nlevels\n",
    "#                 print('The number of levels need to reset is {} \\n'.format(num_levels))\n",
    "                cpd = cpd.T\n",
    "                for num_reset in range(num_levels):\n",
    "                    cpd.reset_index(level=0, inplace=True)\n",
    "#                 print('After reset index, should only have one level column now \\n {} \\n'.format(cpd))\n",
    "                for num_reset in range(num_levels):\n",
    "                    cpd.iloc[:, num_reset] = cpd.iloc[:, num_reset].apply(lambda x: int(x[x.rfind('_')+1:]))\n",
    "#                 print('After reformat the evidence column \\n {} \\n'.format(cpd))\n",
    "                column_name = cpd.columns[-1][:cpd.columns[-1].rfind('_')]\n",
    "\n",
    "                cpd = pd.melt(cpd, id_vars=cpd.columns[:-2].tolist(), var_name=column_name, value_name=\"Pr\")\n",
    "#                 print('After pivot probability columns \\n {} \\n'.format(cpd))\n",
    "                cpd.iloc[:, -2] = cpd.iloc[:, -2].apply(lambda x: int(x[x.rfind('_')+1:]))\n",
    "#                 print('After reformat the probability name column \\n {} \\n'.format(cpd))\n",
    "#                 print('============================================= \\n')\n",
    "            \n",
    "            updated_cpds.append(cpd)\n",
    "\n",
    "#         print('After preprocess, there are {} cpds \\n'.format(len(updated_cpds)))\n",
    "\n",
    "        for cpd_index in range(1, len(updated_cpds)):\n",
    "            if cpd_index == 1:\n",
    "#                 print('now multiply 0 and 1 \\n')\n",
    "                self._joint_prob = self.joint_cpd(updated_cpds[0], updated_cpds[1])\n",
    "\n",
    "            else:\n",
    "#                 print('now multiply previous result and {}'.format(cpd_index))\n",
    "                self._joint_prob = self.joint_cpd(self._joint_prob, updated_cpds[cpd_index])\n",
    "#         print('the final big table')\n",
    "#         print(self._joint_prob)\n",
    "        \n",
    "    def joint_cpd(self, cpd1, cpd2):\n",
    "#         print('cpd1 is \\n {} \\n'.format(cpd1))\n",
    "#         print('cpd2 is \\n {} \\n'.format(cpd2))\n",
    "        \n",
    "        common_variables = list(set(cpd1.columns).intersection(cpd2.columns))\n",
    "        common_variables.remove('Pr')\n",
    "        if len(common_variables) > 0:\n",
    "            result = pd.merge(cpd1, cpd2, on=common_variables, how='outer')\n",
    "        else:\n",
    "            cpd1.rename(columns={'Pr':'Pr_x'}, inplace=True)\n",
    "            cpd2.rename(columns={'Pr':'Pr_y'}, inplace=True)\n",
    "            result = pd.concat([pd.concat([cpd1]*len(cpd2)).sort_index().reset_index(drop=True), \n",
    "                                pd.concat([cpd2]*len(cpd1)).reset_index(drop=True)], 1) \n",
    "#             print(result)\n",
    "        \n",
    "#         print('result after merge is \\n {} \\n'.format(result))\n",
    "\n",
    "        result['Pr'] = result.apply(lambda x: float(x['Pr_x'])*float(x['Pr_y']),axis=1)\n",
    "#         print('cpd1 multiplies cpd2 is \\n {} \\n'.format(result))\n",
    "\n",
    "        result = result.drop(['Pr_x', 'Pr_y'], axis=1)\n",
    "#         print('After drop previous Pr columns, the final result is \\n {} \\n'.format(result))\n",
    "#         print('============================================= \\n')\n",
    "        \n",
    "        return result\n",
    "        \n",
    "    def check_model(self):\n",
    "        # Each edge and node has a table\n",
    "        # No extra or missing edges or nodes\n",
    "        # Sum of each column is 1\n",
    "        return True"
   ]
  },
  {
   "cell_type": "code",
   "execution_count": 4,
   "metadata": {},
   "outputs": [],
   "source": [
    "def T_CPD(variable=None, \n",
    "          variable_card=None, \n",
    "          values=None, \n",
    "          evidence=None, \n",
    "          evidence_card=None):\n",
    "    if evidence is None:\n",
    "        if np.array(values).shape != (variable_card, 1):\n",
    "            values = np.array(values).T\n",
    "        df = pd.DataFrame(values)\n",
    "    else:\n",
    "        multi_index_column_names = []\n",
    "        for column_name in evidence:\n",
    "            variable_names = []\n",
    "            for i in range(evidence_card[evidence.index(column_name)]):\n",
    "                variable_names.append(column_name + '_' + str(i))\n",
    "            multi_index_column_names.append(variable_names)\n",
    "        \n",
    "        column_indexes = []\n",
    "        for element in itertools.product(*multi_index_column_names):\n",
    "            column_indexes.append(element)\n",
    "\n",
    "        values = np.concatenate((column_indexes, np.array(values).T), 1).T\n",
    "\n",
    "        df = pd.DataFrame(values)\n",
    "\n",
    "        df.columns = pd.MultiIndex.from_tuples(column_indexes, names=evidence)\n",
    "\n",
    "        df = df.drop(range(len(evidence_card)), axis=0).reset_index(drop=True)\n",
    "    \n",
    "    for i in range(variable_card):\n",
    "        df.rename(index={i:variable + '_' + str(i)}, inplace=True)\n",
    "\n",
    "    return df"
   ]
  },
  {
   "cell_type": "code",
   "execution_count": 5,
   "metadata": {},
   "outputs": [],
   "source": [
    "class VE(object):\n",
    "    def __init__(self, model=None):\n",
    "        self._table = model._joint_prob\n",
    "        \n",
    "    def query(self, variables=None, evidence=None):\n",
    "        if evidence is None:\n",
    "            result = self._table\n",
    "        else:\n",
    "            mask = pd.DataFrame([self._table[key] == val for key, val in evidence.items()]).T.all(axis=1)\n",
    "            result = self._table[mask]\n",
    "\n",
    "        result = result.groupby(variables).agg({'Pr': 'sum'}).reset_index(level=0, inplace=False)\n",
    "        result['Pr'] = result['Pr'] / result['Pr'].sum()\n",
    "        result[variables[0]] = result[variables[0]].apply(lambda x: variables[0] + '_' + str(x))\n",
    "        return {variables[0]: result}"
   ]
  },
  {
   "cell_type": "markdown",
   "metadata": {},
   "source": [
    "# Warmup Assignment"
   ]
  },
  {
   "cell_type": "markdown",
   "metadata": {},
   "source": [
    "## Variable Elimination Implementation"
   ]
  },
  {
   "cell_type": "code",
   "execution_count": 6,
   "metadata": {},
   "outputs": [],
   "source": [
    "py_valve_model = Model([('Valve_1', 'Monitor_1'), \n",
    "                        ('Valve_1', 'Valve_2'),\n",
    "                        ('Valve_2', 'Monitor_2'),\n",
    "                        ('Valve_2', 'Valve_3'),\n",
    "                        ('Valve_3', 'Monitor_3')])\n",
    "\n",
    "py_cpd_valve_1 = T_CPD(variable='Valve_1', variable_card=2, \n",
    "                       values=[[0.0], \n",
    "                               [1.0]])\n",
    "py_cpd_monitor_1 = T_CPD(variable='Monitor_1', variable_card=2, \n",
    "                         values=[[1.0, 0.5], \n",
    "                                 [0.0, 0.5]], \n",
    "                         evidence=['Valve_1'], evidence_card=[2])\n",
    "py_cpd_valve_2 = T_CPD(variable='Valve_2', variable_card=2, \n",
    "                       values=[[1.0, 0.2], \n",
    "                               [0.0, 0.8]], \n",
    "                       evidence=['Valve_1'], evidence_card=[2])\n",
    "py_cpd_monitor_2 = T_CPD(variable='Monitor_2', variable_card=2, \n",
    "                         values=[[1.0, 0.5], \n",
    "                                 [0.0, 0.5]], \n",
    "                         evidence=['Valve_2'], evidence_card=[2])\n",
    "py_cpd_valve_3 = T_CPD(variable='Valve_3', variable_card=2, \n",
    "                       values=[[1.0, 0.2], \n",
    "                               [0.0, 0.8]], \n",
    "                       evidence=['Valve_2'], evidence_card=[2])\n",
    "py_cpd_monitor_3 = T_CPD(variable='Monitor_3', variable_card=2, \n",
    "                         values=[[1.0, 0.5], \n",
    "                                 [0.0, 0.5]], \n",
    "                         evidence=['Valve_3'], evidence_card=[2])\n",
    "\n",
    "py_valve_model.add_cpds(py_cpd_valve_1, py_cpd_monitor_1, py_cpd_valve_2, py_cpd_monitor_2, py_cpd_valve_3, py_cpd_monitor_3)\n",
    "\n",
    "py_valve_infer = VE(py_valve_model)"
   ]
  },
  {
   "cell_type": "code",
   "execution_count": 7,
   "metadata": {},
   "outputs": [
    {
     "name": "stdout",
     "output_type": "stream",
     "text": [
      "     Valve_3    Pr\n",
      "0  Valve_3_0  0.36\n",
      "1  Valve_3_1  0.64\n"
     ]
    }
   ],
   "source": [
    "q = py_valve_infer.query(variables=['Valve_3'])\n",
    "print(q['Valve_3'])"
   ]
  },
  {
   "cell_type": "code",
   "execution_count": 8,
   "metadata": {},
   "outputs": [
    {
     "name": "stdout",
     "output_type": "stream",
     "text": [
      "     Valve_3        Pr\n",
      "0  Valve_3_0  0.466667\n",
      "1  Valve_3_1  0.533333\n"
     ]
    }
   ],
   "source": [
    "q = py_valve_infer.query(variables=['Valve_3'], evidence={'Monitor_2': 0})\n",
    "print(q['Valve_3'])"
   ]
  },
  {
   "cell_type": "code",
   "execution_count": 9,
   "metadata": {},
   "outputs": [
    {
     "name": "stdout",
     "output_type": "stream",
     "text": [
      "     Valve_3        Pr\n",
      "0  Valve_3_0  0.333333\n",
      "1  Valve_3_1  0.666667\n"
     ]
    }
   ],
   "source": [
    "q = py_valve_infer.query(variables=['Valve_3'], evidence={'Monitor_1': 0, 'Monitor_2': 1, 'Monitor_3': 0})\n",
    "print(q['Valve_3'])"
   ]
  },
  {
   "cell_type": "markdown",
   "metadata": {},
   "source": [
    "# Gibbs Sampling Implementation"
   ]
  },
  {
   "cell_type": "code",
   "execution_count": 102,
   "metadata": {},
   "outputs": [],
   "source": [
    "import copy\n",
    "\n",
    "class GibbsSampling(object):\n",
    "    def __init__(self, model=None):\n",
    "        self._table = model._joint_prob\n",
    "        self._df = None\n",
    "    \n",
    "    def get_prob(self, row):\n",
    "        return row['Count'] / row['Row_Num']\n",
    "\n",
    "    def query(self, correct_prob, variables=None, evidence=None, num_steps=1000):\n",
    "        \n",
    "        row = copy.deepcopy(evidence)\n",
    "#         print(\"after deep copy evidence, the row is {} \\n\".format(row))\n",
    "        \n",
    "        columns = list(self._table.columns)\n",
    "        columns.remove('Pr')\n",
    "#         print(\"all columns are {} \\n\".format(columns))\n",
    "#         print(\"====== \\n\")\n",
    "        \n",
    "#        Preserve unobserved variables order\n",
    "        unobserved_variables = copy.deepcopy(columns)\n",
    "        for key in evidence.keys():\n",
    "            unobserved_variables.remove(key)\n",
    "#         print(\"unobserved_variables are {}\".format(unobserved_variables))\n",
    "#         print(\"====== \\n\")\n",
    "        \n",
    "        # Randomly initialize unobserved variables\n",
    "        for variable in unobserved_variables:\n",
    "            row[variable] = np.random.randint(2, size=1)[0]\n",
    "#         print(\"initial row is {}\".format(row))\n",
    "#         print(\"====== \\n\")\n",
    "        \n",
    "        df = pd.DataFrame(columns=columns)\n",
    "#         print(\"initial df is \\n {}\".format(df))\n",
    "#         print(\"====== \\n\")\n",
    "        \n",
    "        df = df.append(row, ignore_index=True)\n",
    "#         print(\"df append initial row \\n {}\".format(df))\n",
    "        \n",
    "        for i in range(num_steps):\n",
    "#             print(\"====== {} step ====== \\n\".format(i))\n",
    "#             print(\"new df becomes \\n {}\".format(df))\n",
    "#             print(\"====== \\n\")\n",
    "\n",
    "            for variable in unobserved_variables:\n",
    "#                 print(\"Sample for unobserved variable {}\".format(variable))\n",
    "#                 print(\"====== \\n\")\n",
    "\n",
    "#                 print(\"row before remove unobserved variable is {}\".format(row))\n",
    "                row.pop(variable, None)\n",
    "#                 print(\"row after remove unobserved variable {} becomes {}\".format(variable, row))\n",
    "#                 print(\"====== \\n\")\n",
    "\n",
    "                mask = pd.DataFrame([self._table[key] == val for key, val in row.items()]).T.all(axis=1)\n",
    "                result = self._table[mask]\n",
    "#                 print(\"joint prob after masking is \\n {} \\n\".format(result))\n",
    "#                 print(\"====== \\n\")\n",
    "\n",
    "                result = result.groupby(variable).agg({'Pr': 'sum'}).reset_index(level=0, inplace=False)\n",
    "#                 print(\"after select unobserved result \\n {} \\n\".format(result))\n",
    "#                 print(\"====== \\n\")\n",
    "\n",
    "                result = result['Pr'] / result['Pr'].sum()\n",
    "#                 print(\"after normalize joint probability \\n {} \\n\".format(result))\n",
    "#                 print(\"====== \\n\")\n",
    "\n",
    "                conditional_prob = result.values[1]\n",
    "#                 print(\"conditional prob is {} \\n\".format(conditional_prob))\n",
    "#                 print(\"====== \\n\")\n",
    "\n",
    "                random_sample = np.random.rand()\n",
    "#                 print(\"random sample value is {} \\n\".format(random_sample))\n",
    "#                 print(\"====== \\n\")\n",
    "\n",
    "                row[variable] = int(random_sample < conditional_prob)\n",
    "#                 print(\"new row is {} \\n\".format(row))\n",
    "#                 print(\"====== \\n\")\n",
    "            # append row to df\n",
    "            df = df.append(row, ignore_index=True)\n",
    "        \n",
    "#         self._df = df\n",
    "        \n",
    "        result_df = df.groupby(variables)[variables].size().reset_index()\n",
    "        result_df.columns = [variables[0], 'Pr']\n",
    "        result_df['Pr'] = result_df['Pr'] / result_df['Pr'].sum()\n",
    "        \n",
    "        # Plot\n",
    "        df['Count'] = df.groupby(\"Valve_3\").cumcount() + 1\n",
    "#         print(df)\n",
    "        num1 = num_steps+2\n",
    "        num2 = num_steps+1\n",
    "        plot_df = pd.DataFrame({'Row_Num': range(1, num1), 'Correct_Prob': [correct_prob] * num2})\n",
    "        df = df.join(plot_df)\n",
    "        result = df.loc[df[variables[0]] == 1]\n",
    "        result['Prob'] = result.apply(self.get_prob, axis=1)\n",
    "        \n",
    "        result = result[[\"Prob\", \"Correct_Prob\"]]\n",
    "        styles = ['b-','r--']\n",
    "        fig, ax = plt.subplots()\n",
    "        for col, style in zip(result.columns, styles):\n",
    "            result[col].plot(style=style, ax=ax)\n",
    "\n",
    "#         print(result)\n",
    "        return result_df"
   ]
  },
  {
   "cell_type": "code",
   "execution_count": 103,
   "metadata": {},
   "outputs": [],
   "source": [
    "py_valve_gs = GibbsSampling(py_valve_model)"
   ]
  },
  {
   "cell_type": "markdown",
   "metadata": {},
   "source": [
    "Question 1"
   ]
  },
  {
   "cell_type": "code",
   "execution_count": 96,
   "metadata": {},
   "outputs": [
    {
     "name": "stderr",
     "output_type": "stream",
     "text": [
      "/home/kai/anaconda3/lib/python3.6/site-packages/ipykernel_launcher.py:94: SettingWithCopyWarning: \n",
      "A value is trying to be set on a copy of a slice from a DataFrame.\n",
      "Try using .loc[row_indexer,col_indexer] = value instead\n",
      "\n",
      "See the caveats in the documentation: http://pandas.pydata.org/pandas-docs/stable/indexing.html#indexing-view-versus-copy\n"
     ]
    },
    {
     "data": {
      "text/html": [
       "<div>\n",
       "<style scoped>\n",
       "    .dataframe tbody tr th:only-of-type {\n",
       "        vertical-align: middle;\n",
       "    }\n",
       "\n",
       "    .dataframe tbody tr th {\n",
       "        vertical-align: top;\n",
       "    }\n",
       "\n",
       "    .dataframe thead th {\n",
       "        text-align: right;\n",
       "    }\n",
       "</style>\n",
       "<table border=\"1\" class=\"dataframe\">\n",
       "  <thead>\n",
       "    <tr style=\"text-align: right;\">\n",
       "      <th></th>\n",
       "      <th>Valve_3</th>\n",
       "      <th>Pr</th>\n",
       "    </tr>\n",
       "  </thead>\n",
       "  <tbody>\n",
       "    <tr>\n",
       "      <th>0</th>\n",
       "      <td>0</td>\n",
       "      <td>0.355644</td>\n",
       "    </tr>\n",
       "    <tr>\n",
       "      <th>1</th>\n",
       "      <td>1</td>\n",
       "      <td>0.644356</td>\n",
       "    </tr>\n",
       "  </tbody>\n",
       "</table>\n",
       "</div>"
      ],
      "text/plain": [
       "   Valve_3        Pr\n",
       "0        0  0.355644\n",
       "1        1  0.644356"
      ]
     },
     "execution_count": 96,
     "metadata": {},
     "output_type": "execute_result"
    },
    {
     "data": {
      "image/png": "[encoded data removed]",
      "text/plain": [
       "<Figure size 432x288 with 1 Axes>"
      ]
     },
     "metadata": {
      "needs_background": "light"
     },
     "output_type": "display_data"
    }
   ],
   "source": [
    "final_result = py_valve_gs.query(correct_prob=0.64, variables=['Valve_3'], evidence={'Valve_1': 1}, num_steps=1000)\n",
    "final_result"
   ]
  },
  {
   "cell_type": "markdown",
   "metadata": {},
   "source": [
    "Converge around 800th samples."
   ]
  },
  {
   "cell_type": "markdown",
   "metadata": {},
   "source": [
    "Question 2"
   ]
  },
  {
   "cell_type": "code",
   "execution_count": 109,
   "metadata": {},
   "outputs": [
    {
     "name": "stderr",
     "output_type": "stream",
     "text": [
      "/home/kai/anaconda3/lib/python3.6/site-packages/ipykernel_launcher.py:96: SettingWithCopyWarning: \n",
      "A value is trying to be set on a copy of a slice from a DataFrame.\n",
      "Try using .loc[row_indexer,col_indexer] = value instead\n",
      "\n",
      "See the caveats in the documentation: http://pandas.pydata.org/pandas-docs/stable/indexing.html#indexing-view-versus-copy\n"
     ]
    },
    {
     "data": {
      "text/html": [
       "<div>\n",
       "<style scoped>\n",
       "    .dataframe tbody tr th:only-of-type {\n",
       "        vertical-align: middle;\n",
       "    }\n",
       "\n",
       "    .dataframe tbody tr th {\n",
       "        vertical-align: top;\n",
       "    }\n",
       "\n",
       "    .dataframe thead th {\n",
       "        text-align: right;\n",
       "    }\n",
       "</style>\n",
       "<table border=\"1\" class=\"dataframe\">\n",
       "  <thead>\n",
       "    <tr style=\"text-align: right;\">\n",
       "      <th></th>\n",
       "      <th>Valve_3</th>\n",
       "      <th>Pr</th>\n",
       "    </tr>\n",
       "  </thead>\n",
       "  <tbody>\n",
       "    <tr>\n",
       "      <th>0</th>\n",
       "      <td>0</td>\n",
       "      <td>0.456848</td>\n",
       "    </tr>\n",
       "    <tr>\n",
       "      <th>1</th>\n",
       "      <td>1</td>\n",
       "      <td>0.543152</td>\n",
       "    </tr>\n",
       "  </tbody>\n",
       "</table>\n",
       "</div>"
      ],
      "text/plain": [
       "   Valve_3        Pr\n",
       "0        0  0.456848\n",
       "1        1  0.543152"
      ]
     },
     "execution_count": 109,
     "metadata": {},
     "output_type": "execute_result"
    },
    {
     "data": {
      "image/png": "[encoded data removed]",
      "text/plain": [
       "<Figure size 432x288 with 1 Axes>"
      ]
     },
     "metadata": {
      "needs_background": "light"
     },
     "output_type": "display_data"
    }
   ],
   "source": [
    "final_result = py_valve_gs.query(correct_prob=0.533333, \n",
    "                                 variables=['Valve_3'], evidence={'Valve_1': 1, 'Monitor_2': 0},\n",
    "                                 num_steps=3000)\n",
    "final_result"
   ]
  },
  {
   "cell_type": "markdown",
   "metadata": {},
   "source": [
    "Converge around 2300th samples."
   ]
  },
  {
   "cell_type": "markdown",
   "metadata": {},
   "source": [
    "Question 3"
   ]
  },
  {
   "cell_type": "code",
   "execution_count": 94,
   "metadata": {},
   "outputs": [
    {
     "name": "stderr",
     "output_type": "stream",
     "text": [
      "/home/kai/anaconda3/lib/python3.6/site-packages/ipykernel_launcher.py:94: SettingWithCopyWarning: \n",
      "A value is trying to be set on a copy of a slice from a DataFrame.\n",
      "Try using .loc[row_indexer,col_indexer] = value instead\n",
      "\n",
      "See the caveats in the documentation: http://pandas.pydata.org/pandas-docs/stable/indexing.html#indexing-view-versus-copy\n"
     ]
    },
    {
     "data": {
      "text/html": [
       "<div>\n",
       "<style scoped>\n",
       "    .dataframe tbody tr th:only-of-type {\n",
       "        vertical-align: middle;\n",
       "    }\n",
       "\n",
       "    .dataframe tbody tr th {\n",
       "        vertical-align: top;\n",
       "    }\n",
       "\n",
       "    .dataframe thead th {\n",
       "        text-align: right;\n",
       "    }\n",
       "</style>\n",
       "<table border=\"1\" class=\"dataframe\">\n",
       "  <thead>\n",
       "    <tr style=\"text-align: right;\">\n",
       "      <th></th>\n",
       "      <th>Valve_3</th>\n",
       "      <th>Pr</th>\n",
       "    </tr>\n",
       "  </thead>\n",
       "  <tbody>\n",
       "    <tr>\n",
       "      <th>0</th>\n",
       "      <td>0</td>\n",
       "      <td>0.330669</td>\n",
       "    </tr>\n",
       "    <tr>\n",
       "      <th>1</th>\n",
       "      <td>1</td>\n",
       "      <td>0.669331</td>\n",
       "    </tr>\n",
       "  </tbody>\n",
       "</table>\n",
       "</div>"
      ],
      "text/plain": [
       "   Valve_3        Pr\n",
       "0        0  0.330669\n",
       "1        1  0.669331"
      ]
     },
     "execution_count": 94,
     "metadata": {},
     "output_type": "execute_result"
    },
    {
     "data": {
      "image/png": "[encoded data removed]",
      "text/plain": [
       "<Figure size 432x288 with 1 Axes>"
      ]
     },
     "metadata": {
      "needs_background": "light"
     },
     "output_type": "display_data"
    }
   ],
   "source": [
    "final_result = py_valve_gs.query(correct_prob=0.666667, variables=['Valve_3'], evidence={'Valve_1': 1, 'Monitor_1': 0, 'Monitor_2': 1, 'Monitor_3': 0})\n",
    "final_result"
   ]
  },
  {
   "cell_type": "markdown",
   "metadata": {},
   "source": [
    "Converge around 650th samples."
   ]
  },
  {
   "cell_type": "code",
   "execution_count": null,
   "metadata": {},
   "outputs": [],
   "source": []
  }
 ],
 "metadata": {
  "kernelspec": {
   "display_name": "Python 3",
   "language": "python",
   "name": "python3"
  },
  "language_info": {
   "codemirror_mode": {
    "name": "ipython",
    "version": 3
   },
   "file_extension": ".py",
   "mimetype": "text/x-python",
   "name": "python",
   "nbconvert_exporter": "python",
   "pygments_lexer": "ipython3",
   "version": "3.6.7"
  }
 },
 "nbformat": 4,
 "nbformat_minor": 2
}
