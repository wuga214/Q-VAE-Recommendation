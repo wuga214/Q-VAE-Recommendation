{
 "cells": [
  {
   "cell_type": "code",
   "execution_count": 19,
   "metadata": {
    "collapsed": true
   },
   "outputs": [],
   "source": [
    "from utils.io import load_numpy, find_best_hyperparameters, load_yaml, load_dataframe_csv\n",
    "import matplotlib.pyplot as plt\n",
    "import seaborn as sns"
   ]
  },
  {
   "cell_type": "code",
   "execution_count": 20,
   "metadata": {},
   "outputs": [],
   "source": [
    "results = load_dataframe_csv('tables/', '1m_convergence_analysis.csv')"
   ]
  },
  {
   "cell_type": "code",
   "execution_count": 29,
   "metadata": {
    "collapsed": true
   },
   "outputs": [],
   "source": [
    "def show_training_progress(df, hue='model', metric='NDCG', name=\"epoch_vs_ndcg\", save=True):\n",
    "    fig, ax = plt.subplots(figsize=(6, 3))\n",
    "    #plt.axhline(y=0.165, color='r', linestyle='-')\n",
    "    ax = sns.lineplot(x='epoch', y=metric, hue=hue, style=hue, data=df)\n",
    "    plt.tight_layout()\n",
    "    if save:\n",
    "        fig_path = load_yaml('config/global.yml', key='path')['figs']\n",
    "        fig.savefig('{0}/train/progress/{1}.pdf'.format(fig_path, name),\n",
    "                    bbox_inches=\"tight\", pad_inches=0, format='pdf')\n",
    "    else:\n",
    "        plt.show()"
   ]
  },
  {
   "cell_type": "code",
   "execution_count": 30,
   "metadata": {},
   "outputs": [],
   "source": [
    "show_training_progress(results, hue='model', metric='NDCG', name=\"epoch_vs_ndcg\")"
   ]
  },
  {
   "cell_type": "code",
   "execution_count": 18,
   "metadata": {},
   "outputs": [
    {
     "data": {
      "text/html": [
       "<div>\n",
       "<style>\n",
       "    .dataframe thead tr:only-child th {\n",
       "        text-align: right;\n",
       "    }\n",
       "\n",
       "    .dataframe thead th {\n",
       "        text-align: left;\n",
       "    }\n",
       "\n",
       "    .dataframe tbody tr th {\n",
       "        vertical-align: top;\n",
       "    }\n",
       "</style>\n",
       "<table border=\"1\" class=\"dataframe\">\n",
       "  <thead>\n",
       "    <tr style=\"text-align: right;\">\n",
       "      <th></th>\n",
       "      <th>Unnamed: 0</th>\n",
       "      <th>model</th>\n",
       "      <th>rank</th>\n",
       "      <th>lambda</th>\n",
       "      <th>epoch</th>\n",
       "      <th>optimizer</th>\n",
       "      <th>NDCG</th>\n",
       "      <th>R-Precision</th>\n",
       "    </tr>\n",
       "  </thead>\n",
       "  <tbody>\n",
       "    <tr>\n",
       "      <th>0</th>\n",
       "      <td>0</td>\n",
       "      <td>CDAE</td>\n",
       "      <td>200</td>\n",
       "      <td>0.00001</td>\n",
       "      <td>24</td>\n",
       "      <td>RMSProp</td>\n",
       "      <td>0.1235</td>\n",
       "      <td>0.0745</td>\n",
       "    </tr>\n",
       "    <tr>\n",
       "      <th>1</th>\n",
       "      <td>1</td>\n",
       "      <td>CDAE</td>\n",
       "      <td>200</td>\n",
       "      <td>0.00001</td>\n",
       "      <td>49</td>\n",
       "      <td>RMSProp</td>\n",
       "      <td>0.1295</td>\n",
       "      <td>0.0788</td>\n",
       "    </tr>\n",
       "  </tbody>\n",
       "</table>\n",
       "</div>"
      ],
      "text/plain": [
       "   Unnamed: 0 model  rank   lambda  epoch optimizer    NDCG  R-Precision\n",
       "0           0  CDAE   200  0.00001     24   RMSProp  0.1235       0.0745\n",
       "1           1  CDAE   200  0.00001     49   RMSProp  0.1295       0.0788"
      ]
     },
     "execution_count": 18,
     "metadata": {},
     "output_type": "execute_result"
    }
   ],
   "source": [
    "results"
   ]
  },
  {
   "cell_type": "code",
   "execution_count": null,
   "metadata": {
    "collapsed": true
   },
   "outputs": [],
   "source": []
  }
 ],
 "metadata": {
  "kernelspec": {
   "display_name": "Python 2",
   "language": "python",
   "name": "python2"
  },
  "language_info": {
   "codemirror_mode": {
    "name": "ipython",
    "version": 2
   },
   "file_extension": ".py",
   "mimetype": "text/x-python",
   "name": "python",
   "nbconvert_exporter": "python",
   "pygments_lexer": "ipython2",
   "version": "2.7.12"
  }
 },
 "nbformat": 4,
 "nbformat_minor": 2
}
